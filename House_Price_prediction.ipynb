{
 "cells": [
  {
   "cell_type": "markdown",
   "metadata": {},
   "source": [
    "### House Price Prediction using SVR\n",
    "● Predicting the selling price of houses based on features such as square\n",
    "footage, number of bedrooms and bathrooms, location, amenities, etc"
   ]
  },
  {
   "cell_type": "code",
   "execution_count": 9,
   "metadata": {},
   "outputs": [
    {
     "name": "stderr",
     "output_type": "stream",
     "text": [
      "C:\\Users\\sola 2\\AppData\\Local\\Temp\\ipykernel_23180\\3731466176.py:15: SettingWithCopyWarning: \n",
      "A value is trying to be set on a copy of a slice from a DataFrame\n",
      "\n",
      "See the caveats in the documentation: https://pandas.pydata.org/pandas-docs/stable/user_guide/indexing.html#returning-a-view-versus-a-copy\n",
      "  X.fillna(X.mean(), inplace=True)\n",
      "c:\\Users\\sola 2\\AppData\\Local\\Programs\\Python\\Python312\\Lib\\site-packages\\sklearn\\base.py:493: UserWarning: X does not have valid feature names, but StandardScaler was fitted with feature names\n",
      "  warnings.warn(\n"
     ]
    },
    {
     "name": "stdout",
     "output_type": "stream",
     "text": [
      "Root Mean Squared Error: 533149.8145855789\n",
      "Predicted Price: $833095.6089431777\n"
     ]
    }
   ],
   "source": [
    "import pandas as pd\n",
    "from sklearn.preprocessing import StandardScaler\n",
    "from sklearn.svm import SVR\n",
    "from sklearn.model_selection import train_test_split\n",
    "from sklearn.metrics import mean_squared_error\n",
    "\n",
    "# Load the dataset\n",
    "data = pd.read_csv('train.csv')\n",
    "\n",
    "\n",
    "# Preprocess the data\n",
    "X = data[['beds', 'baths', 'size', 'lot_size', 'zip_code']]\n",
    "y = data['price']\n",
    "\n",
    "# Fill missing values with mean column values\n",
    "X.fillna(X.mean(), inplace=True)\n",
    "\n",
    "\n",
    "# Scale the features\n",
    "scaler = StandardScaler()\n",
    "X_scaled = scaler.fit_transform(X)\n",
    "\n",
    "# Split the data into training and testing sets\n",
    "X_train, X_test, y_train, y_test = train_test_split(X_scaled, y, test_size=0.2, random_state=42)\n",
    "\n",
    "# Create and train the SVR model\n",
    "svr_model = SVR(kernel='rbf', C=1000, gamma=0.1)\n",
    "svr_model.fit(X_train, y_train)\n",
    "\n",
    "# Make predictions on the test set\n",
    "y_pred = svr_model.predict(X_test)\n",
    "\n",
    "# Evaluate the model\n",
    "mse = mean_squared_error(y_test, y_pred)\n",
    "rmse = mse ** 0.5\n",
    "print(f\"Root Mean Squared Error: {rmse}\")\n",
    "\n",
    "# Define a function to predict house price\n",
    "def predict_house_price(beds, baths, size, lot_size, zip_code):\n",
    "    input_features = scaler.transform([[beds, baths, size, lot_size, zip_code]])\n",
    "    predicted_price = svr_model.predict(input_features)\n",
    "    return predicted_price[0]\n",
    "\n",
    "predicted_price = predict_house_price(3, 2, 1800, 5000, 98122)\n",
    "print(f\"Predicted Price: ${predicted_price}\")    "
   ]
  },
  {
   "cell_type": "markdown",
   "metadata": {},
   "source": [
    "## Model On Test Data\n"
   ]
  },
  {
   "cell_type": "code",
   "execution_count": 10,
   "metadata": {},
   "outputs": [
    {
     "name": "stdout",
     "output_type": "stream",
     "text": [
      "Root Mean Squared Error on Test Set: 581336.1839685004\n"
     ]
    },
    {
     "name": "stderr",
     "output_type": "stream",
     "text": [
      "C:\\Users\\sola 2\\AppData\\Local\\Temp\\ipykernel_23180\\671425407.py:9: SettingWithCopyWarning: \n",
      "A value is trying to be set on a copy of a slice from a DataFrame\n",
      "\n",
      "See the caveats in the documentation: https://pandas.pydata.org/pandas-docs/stable/user_guide/indexing.html#returning-a-view-versus-a-copy\n",
      "  X_test.fillna(X_test.mean(), inplace=True)\n"
     ]
    }
   ],
   "source": [
    "# Load the test dataset\n",
    "test_data = pd.read_csv('test.csv')\n",
    "\n",
    "# Preprocess the test data\n",
    "X_test = test_data[['beds', 'baths', 'size', 'lot_size', 'zip_code']]\n",
    "y_test = test_data['price']\n",
    "\n",
    "# Fill missing values with mean column values in the test set\n",
    "X_test.fillna(X_test.mean(), inplace=True)\n",
    "\n",
    "# Scale the test features\n",
    "X_test_scaled = scaler.transform(X_test)\n",
    "\n",
    "# Make predictions on the test set\n",
    "y_pred_test = svr_model.predict(X_test_scaled)\n",
    "\n",
    "# Evaluate the model on the test set\n",
    "mse_test = mean_squared_error(y_test, y_pred_test)\n",
    "rmse_test = mse_test ** 0.5\n",
    "print(f\"Root Mean Squared Error on Test Set: {rmse_test}\")"
   ]
  }
 ],
 "metadata": {
  "kernelspec": {
   "display_name": "Python 3",
   "language": "python",
   "name": "python3"
  },
  "language_info": {
   "codemirror_mode": {
    "name": "ipython",
    "version": 3
   },
   "file_extension": ".py",
   "mimetype": "text/x-python",
   "name": "python",
   "nbconvert_exporter": "python",
   "pygments_lexer": "ipython3",
   "version": "3.12.3"
  }
 },
 "nbformat": 4,
 "nbformat_minor": 2
}
