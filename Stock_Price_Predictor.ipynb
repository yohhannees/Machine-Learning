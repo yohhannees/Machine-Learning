{
 "cells": [
  {
   "cell_type": "markdown",
   "metadata": {},
   "source": [
    "This script predicts future stock prices using Linear Regression. It reads historical stock data from a CSV file, splits the data into training and testing sets, and trains a Linear Regression model. The model's performance is evaluated using R-squared. The script then uses the model to predict stock prices for a specified number of future days and prints these predictions."
   ]
  },
  {
   "cell_type": "code",
   "execution_count": null,
   "metadata": {},
   "outputs": [],
   "source": [
    "import pandas as pd\n",
    "from sklearn.linear_model import LinearRegression\n",
    "from sklearn.model_selection import train_test_split\n",
    "\n",
    "def predict_future_prices(dataframe, num_days):\n",
    "    # Prepare the data\n",
    "    X = dataframe.index.astype('int64') // 10**9  # Convert dates to Unix timestamp (seconds since epoch)\n",
    "    y = dataframe['Close']\n",
    "\n",
    "    # Split the data into training and testing sets\n",
    "    X_train, X_test, y_train, y_test = train_test_split(X, y, test_size=0.2, shuffle=False)\n",
    "\n",
    "    # Train the linear regression model\n",
    "    model = LinearRegression()\n",
    "    model.fit(X_train.values.reshape(-1, 1), y_train)\n",
    "\n",
    "    # Calculate R-squared for training and testing data\n",
    "    train_score = model.score(X_train.values.reshape(-1, 1), y_train)\n",
    "    test_score = model.score(X_test.values.reshape(-1, 1), y_test)\n",
    "\n",
    "    print(f'Training R-squared: {train_score:.2f}')\n",
    "    print(f'Testing R-squared: {test_score:.2f}')\n",
    "\n",
    "    # Make predictions for future dates\n",
    "    last_date = dataframe.index[-1]\n",
    "    future_dates = pd.date_range(start=last_date, periods=num_days, freq='D')\n",
    "    future_timestamps = (future_dates - pd.Timestamp(\"1970-01-01\")) // pd.Timedelta('1s')\n",
    "    future_prices = model.predict(future_timestamps.values.reshape(-1, 1))\n",
    "\n",
    "    # Print the predicted stock prices\n",
    "    for date, price in zip(future_dates, future_prices):\n",
    "        print(f'Predicted price for {date.date()}: ${price:.2f}')\n",
    "\n",
    "# Load the CSV file\n",
    "df = pd.read_csv('GOOG.csv', parse_dates=['Date'], index_col='Date')\n",
    "\n",
    "# Call the function to predict future prices for 7 days\n",
    "num_days = 7\n",
    "predict_future_prices(df, num_days)"
   ]
  },
  {
   "cell_type": "markdown",
   "metadata": {},
   "source": [
    "This script predicts future stock prices using Ridge Regression. It reads historical stock data, splits it into training and testing sets, and trains a Ridge Regression model. The model's performance is evaluated using R-squared. The script then uses the model to predict stock prices for a specified number of future days and prints these predictions."
   ]
  },
  {
   "cell_type": "code",
   "execution_count": 4,
   "metadata": {},
   "outputs": [
    {
     "name": "stdout",
     "output_type": "stream",
     "text": [
      "Training R-squared: 0.85\n",
      "Testing R-squared: -3.77\n",
      "Predicted price for 2023-12-05: $65.82\n",
      "Predicted price for 2023-12-06: $65.83\n",
      "Predicted price for 2023-12-07: $65.84\n",
      "Predicted price for 2023-12-08: $65.85\n",
      "Predicted price for 2023-12-09: $65.86\n",
      "Predicted price for 2023-12-10: $65.87\n",
      "Predicted price for 2023-12-11: $65.88\n"
     ]
    }
   ],
   "source": [
    "from sklearn.linear_model import Ridge\n",
    "\n",
    "def predict_future_prices_ridge(dataframe, num_days):\n",
    "    # Prepare the data\n",
    "    X = dataframe.index.astype('int64') // 10**9  # Convert dates to Unix timestamp (seconds since epoch)\n",
    "    y = dataframe['Close']\n",
    "\n",
    "    # Split the data into training and testing sets\n",
    "    X_train, X_test, y_train, y_test = train_test_split(X, y, test_size=0.2, shuffle=False)\n",
    "\n",
    "    # Train the Ridge regression model\n",
    "    model = Ridge()\n",
    "    model.fit(X_train.values.reshape(-1, 1), y_train)\n",
    "\n",
    "    # Calculate R-squared for training and testing data\n",
    "    train_score = model.score(X_train.values.reshape(-1, 1), y_train)\n",
    "    test_score = model.score(X_test.values.reshape(-1, 1), y_test)\n",
    "\n",
    "    print(f'Training R-squared: {train_score:.2f}')\n",
    "    print(f'Testing R-squared: {test_score:.2f}')\n",
    "\n",
    "    # Make predictions for future dates\n",
    "    last_date = dataframe.index[-1]\n",
    "    future_dates = pd.date_range(start=last_date, periods=num_days, freq='D')\n",
    "    future_timestamps = (future_dates - pd.Timestamp(\"1970-01-01\")) // pd.Timedelta('1s')\n",
    "    future_prices = model.predict(future_timestamps.values.reshape(-1, 1))\n",
    "\n",
    "    # Print the predicted stock prices\n",
    "    for date, price in zip(future_dates, future_prices):\n",
    "        print(f'Predicted price for {date.date()}: ${price:.2f}')\n",
    "\n",
    "# Call the function to predict future prices for 7 days\n",
    "num_days = 7\n",
    "predict_future_prices_ridge(df, num_days)"
   ]
  },
  {
   "cell_type": "code",
   "execution_count": 15,
   "metadata": {},
   "outputs": [
    {
     "ename": "NameError",
     "evalue": "name 'pd' is not defined",
     "output_type": "error",
     "traceback": [
      "\u001b[1;31m---------------------------------------------------------------------------\u001b[0m",
      "\u001b[1;31mNameError\u001b[0m                                 Traceback (most recent call last)",
      "Cell \u001b[1;32mIn[15], line 46\u001b[0m\n\u001b[0;32m     43\u001b[0m     plt\u001b[38;5;241m.\u001b[39mshow()\n\u001b[0;32m     45\u001b[0m \u001b[38;5;66;03m# Load data from a CSV file into a DataFrame\u001b[39;00m\n\u001b[1;32m---> 46\u001b[0m df \u001b[38;5;241m=\u001b[39m \u001b[43mpd\u001b[49m\u001b[38;5;241m.\u001b[39mread_csv(\u001b[38;5;124m'\u001b[39m\u001b[38;5;124mtrain.csv\u001b[39m\u001b[38;5;124m'\u001b[39m)\n\u001b[0;32m     48\u001b[0m \u001b[38;5;66;03m# Call the function to predict future prices for 7 days\u001b[39;00m\n\u001b[0;32m     49\u001b[0m num_days \u001b[38;5;241m=\u001b[39m \u001b[38;5;241m7\u001b[39m\n",
      "\u001b[1;31mNameError\u001b[0m: name 'pd' is not defined"
     ]
    }
   ],
   "source": [
    "import matplotlib.pyplot as plt\n",
    "from sklearn.model_selection import train_test_split\n",
    "import pandas as pd\n",
    "\n",
    "from sklearn.linear_model import Ridge\n",
    "\n",
    "def predict_future_prices_ridge(dataframe, num_days):\n",
    "    # Prepare the data\n",
    "    X = dataframe.index.astype('int64') // 10**9  # Convert dates to Unix timestamp (seconds since epoch)\n",
    "    y = dataframe['Close']\n",
    "\n",
    "    # Split the data into training and testing sets\n",
    "    X_train, X_test, y_train, y_test = train_test_split(X.values.reshape(-1, 1), y, test_size=0.2, shuffle=False)\n",
    "\n",
    "    # Train the Ridge regression model\n",
    "    model = Ridge()\n",
    "    model.fit(X_train, y_train)\n",
    "\n",
    "    # Calculate R-squared for training and testing data\n",
    "    train_score = model.score(X_train, y_train)\n",
    "    test_score = model.score(X_test, y_test)\n",
    "\n",
    "    print(f'Training R-squared: {train_score:.2f}')\n",
    "    print(f'Testing R-squared: {test_score:.2f}')\n",
    "\n",
    "    # Make predictions for future dates\n",
    "    last_date = dataframe.index[-1]\n",
    "    future_dates = pd.date_range(start=last_date, periods=num_days, freq='D')\n",
    "    future_timestamps = (future_dates - pd.Timestamp(\"1970-01-01\")) // pd.Timedelta('1s')\n",
    "    future_prices = model.predict(future_timestamps.values.reshape(-1, 1))\n",
    "\n",
    "    # Print the predicted stock prices\n",
    "    for date, price in zip(future_dates, future_prices):\n",
    "        print(f'Predicted price for {date.date()}: ${price:.2f}')\n",
    "\n",
    "    # Plot the predicted prices\n",
    "    plt.figure(figsize=(10, 6))\n",
    "    plt.plot(dataframe.index, dataframe['Close'], label='Historical Prices')\n",
    "    plt.plot(future_dates, future_prices, label='Predicted Prices')\n",
    "    plt.title('Stock Price Prediction')\n",
    "    plt.xlabel('Date')\n",
    "    plt.ylabel('Price')\n",
    "    plt.legend()\n",
    "    plt.show()\n",
    "\n",
    "# Load data from a CSV file into a DataFrame\n",
    "df = pd.read_csv('GOOG.csv', parse_dates=['Date'], index_col='Date')\n",
    "# Call the function to predict future prices for 7 days\n",
    "num_days = 7\n",
    "predict_future_prices_ridge(df, num_days)"
   ]
  }
 ],
 "metadata": {
  "kernelspec": {
   "display_name": "Python 3",
   "language": "python",
   "name": "python3"
  },
  "language_info": {
   "codemirror_mode": {
    "name": "ipython",
    "version": 3
   },
   "file_extension": ".py",
   "mimetype": "text/x-python",
   "name": "python",
   "nbconvert_exporter": "python",
   "pygments_lexer": "ipython3",
   "version": "3.12.3"
  }
 },
 "nbformat": 4,
 "nbformat_minor": 2
}
